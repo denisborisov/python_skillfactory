{
 "cells": [
  {
   "cell_type": "code",
   "execution_count": 1,
   "metadata": {
    "_cell_guid": "b1076dfc-b9ad-4769-8c92-a6c4dae69d19",
    "_uuid": "8f2839f25d086af736a60e9eeb907d3b93b6e0e5",
    "colab": {},
    "colab_type": "code",
    "id": "U2D2gTdJVp90"
   },
   "outputs": [],
   "source": [
    "import numpy as np\n",
    "import pandas as pd\n",
    "import seaborn as sns\n",
    "import matplotlib.pyplot as plt\n",
    "from collections import Counter\n",
    "from datetime import datetime, date"
   ]
  },
  {
   "cell_type": "code",
   "execution_count": 2,
   "metadata": {
    "_cell_guid": "79c7e3d0-c299-4dcb-8224-4455121ee9b0",
    "_uuid": "d629ff2d2480ee46fbb7e2d37f6b5fab8052498a",
    "colab": {},
    "colab_type": "code",
    "id": "oyGfxL3eVp9-"
   },
   "outputs": [
    {
     "data": {
      "text/html": [
       "<div>\n",
       "<style scoped>\n",
       "    .dataframe tbody tr th:only-of-type {\n",
       "        vertical-align: middle;\n",
       "    }\n",
       "\n",
       "    .dataframe tbody tr th {\n",
       "        vertical-align: top;\n",
       "    }\n",
       "\n",
       "    .dataframe thead th {\n",
       "        text-align: right;\n",
       "    }\n",
       "</style>\n",
       "<table border=\"1\" class=\"dataframe\">\n",
       "  <thead>\n",
       "    <tr style=\"text-align: right;\">\n",
       "      <th></th>\n",
       "      <th>imdb_id</th>\n",
       "      <th>budget</th>\n",
       "      <th>revenue</th>\n",
       "      <th>original_title</th>\n",
       "      <th>cast</th>\n",
       "      <th>director</th>\n",
       "      <th>tagline</th>\n",
       "      <th>overview</th>\n",
       "      <th>runtime</th>\n",
       "      <th>genres</th>\n",
       "      <th>production_companies</th>\n",
       "      <th>release_date</th>\n",
       "      <th>vote_average</th>\n",
       "      <th>release_year</th>\n",
       "    </tr>\n",
       "  </thead>\n",
       "  <tbody>\n",
       "    <tr>\n",
       "      <th>1219</th>\n",
       "      <td>tt1204975</td>\n",
       "      <td>28000000</td>\n",
       "      <td>134402450</td>\n",
       "      <td>Last Vegas</td>\n",
       "      <td>Robert De Niro|Morgan Freeman|Michael Douglas|...</td>\n",
       "      <td>Jon Turteltaub</td>\n",
       "      <td>It's going to be legendary</td>\n",
       "      <td>Three sixty-something friends take a break fro...</td>\n",
       "      <td>105</td>\n",
       "      <td>Comedy</td>\n",
       "      <td>Laurence Mark Productions|CBS Films|Outlaw Sin...</td>\n",
       "      <td>10/31/2013</td>\n",
       "      <td>6.4</td>\n",
       "      <td>2013</td>\n",
       "    </tr>\n",
       "    <tr>\n",
       "      <th>1378</th>\n",
       "      <td>tt0433383</td>\n",
       "      <td>7000000</td>\n",
       "      <td>54600000</td>\n",
       "      <td>Good Night, and Good Luck.</td>\n",
       "      <td>David Strathairn|Jeff Daniels|Alex Borstein|Ro...</td>\n",
       "      <td>George Clooney</td>\n",
       "      <td>They took on the Government with nothing but t...</td>\n",
       "      <td>The story of journalist, Edward R Murrow's sta...</td>\n",
       "      <td>93</td>\n",
       "      <td>Drama|History</td>\n",
       "      <td>Warner Independent Pictures (WIP)|Section Eigh...</td>\n",
       "      <td>9/16/2005</td>\n",
       "      <td>6.4</td>\n",
       "      <td>2005</td>\n",
       "    </tr>\n",
       "    <tr>\n",
       "      <th>364</th>\n",
       "      <td>tt1285309</td>\n",
       "      <td>10000000</td>\n",
       "      <td>7022728</td>\n",
       "      <td>The Joneses</td>\n",
       "      <td>David Duchovny|Demi Moore|Amber Heard|Benjamin...</td>\n",
       "      <td>Derrick Borte</td>\n",
       "      <td>They're not just living the American dream, th...</td>\n",
       "      <td>A seemingly perfect family moves into a suburb...</td>\n",
       "      <td>96</td>\n",
       "      <td>Comedy|Drama</td>\n",
       "      <td>Echo Lake Productions|Premiere Picture</td>\n",
       "      <td>9/13/2009</td>\n",
       "      <td>6.0</td>\n",
       "      <td>2009</td>\n",
       "    </tr>\n",
       "    <tr>\n",
       "      <th>1210</th>\n",
       "      <td>tt1538403</td>\n",
       "      <td>60000000</td>\n",
       "      <td>90565421</td>\n",
       "      <td>The Mortal Instruments: City of Bones</td>\n",
       "      <td>Lily Collins|Jamie Campbell Bower|Kevin Zegers...</td>\n",
       "      <td>Harald Zwart</td>\n",
       "      <td>You have been chosen</td>\n",
       "      <td>In New York City, Clary Fray, a seemingly ordi...</td>\n",
       "      <td>130</td>\n",
       "      <td>Action|Adventure|Drama|Mystery|Romance</td>\n",
       "      <td>Constantin Film Produktion|Don Carmody Product...</td>\n",
       "      <td>8/21/2013</td>\n",
       "      <td>6.2</td>\n",
       "      <td>2013</td>\n",
       "    </tr>\n",
       "    <tr>\n",
       "      <th>733</th>\n",
       "      <td>tt1219289</td>\n",
       "      <td>27000000</td>\n",
       "      <td>161849455</td>\n",
       "      <td>Limitless</td>\n",
       "      <td>Bradley Cooper|Robert De Niro|Abbie Cornish|An...</td>\n",
       "      <td>Neil Burger</td>\n",
       "      <td>What if a pill could make you rich and powerful?</td>\n",
       "      <td>A paranoia-fueled action thriller about an uns...</td>\n",
       "      <td>105</td>\n",
       "      <td>Thriller|Mystery|Science Fiction</td>\n",
       "      <td>Rogue Pictures|Relativity Media|Virgin Produce...</td>\n",
       "      <td>3/8/2011</td>\n",
       "      <td>7.0</td>\n",
       "      <td>2011</td>\n",
       "    </tr>\n",
       "  </tbody>\n",
       "</table>\n",
       "</div>"
      ],
      "text/plain": [
       "        imdb_id    budget    revenue                         original_title  \\\n",
       "1219  tt1204975  28000000  134402450                             Last Vegas   \n",
       "1378  tt0433383   7000000   54600000             Good Night, and Good Luck.   \n",
       "364   tt1285309  10000000    7022728                            The Joneses   \n",
       "1210  tt1538403  60000000   90565421  The Mortal Instruments: City of Bones   \n",
       "733   tt1219289  27000000  161849455                              Limitless   \n",
       "\n",
       "                                                   cast        director  \\\n",
       "1219  Robert De Niro|Morgan Freeman|Michael Douglas|...  Jon Turteltaub   \n",
       "1378  David Strathairn|Jeff Daniels|Alex Borstein|Ro...  George Clooney   \n",
       "364   David Duchovny|Demi Moore|Amber Heard|Benjamin...   Derrick Borte   \n",
       "1210  Lily Collins|Jamie Campbell Bower|Kevin Zegers...    Harald Zwart   \n",
       "733   Bradley Cooper|Robert De Niro|Abbie Cornish|An...     Neil Burger   \n",
       "\n",
       "                                                tagline  \\\n",
       "1219                         It's going to be legendary   \n",
       "1378  They took on the Government with nothing but t...   \n",
       "364   They're not just living the American dream, th...   \n",
       "1210                               You have been chosen   \n",
       "733    What if a pill could make you rich and powerful?   \n",
       "\n",
       "                                               overview  runtime  \\\n",
       "1219  Three sixty-something friends take a break fro...      105   \n",
       "1378  The story of journalist, Edward R Murrow's sta...       93   \n",
       "364   A seemingly perfect family moves into a suburb...       96   \n",
       "1210  In New York City, Clary Fray, a seemingly ordi...      130   \n",
       "733   A paranoia-fueled action thriller about an uns...      105   \n",
       "\n",
       "                                      genres  \\\n",
       "1219                                  Comedy   \n",
       "1378                           Drama|History   \n",
       "364                             Comedy|Drama   \n",
       "1210  Action|Adventure|Drama|Mystery|Romance   \n",
       "733         Thriller|Mystery|Science Fiction   \n",
       "\n",
       "                                   production_companies release_date  \\\n",
       "1219  Laurence Mark Productions|CBS Films|Outlaw Sin...   10/31/2013   \n",
       "1378  Warner Independent Pictures (WIP)|Section Eigh...    9/16/2005   \n",
       "364              Echo Lake Productions|Premiere Picture    9/13/2009   \n",
       "1210  Constantin Film Produktion|Don Carmody Product...    8/21/2013   \n",
       "733   Rogue Pictures|Relativity Media|Virgin Produce...     3/8/2011   \n",
       "\n",
       "      vote_average  release_year  \n",
       "1219           6.4          2013  \n",
       "1378           6.4          2005  \n",
       "364            6.0          2009  \n",
       "1210           6.2          2013  \n",
       "733            7.0          2011  "
      ]
     },
     "execution_count": 2,
     "metadata": {},
     "output_type": "execute_result"
    }
   ],
   "source": [
    "data = pd.read_csv('movie_bd_v5.csv')\n",
    "data.sample(5)"
   ]
  },
  {
   "cell_type": "code",
   "execution_count": 3,
   "metadata": {
    "colab": {},
    "colab_type": "code",
    "id": "CoYUnagMVp-C"
   },
   "outputs": [
    {
     "data": {
      "text/html": [
       "<div>\n",
       "<style scoped>\n",
       "    .dataframe tbody tr th:only-of-type {\n",
       "        vertical-align: middle;\n",
       "    }\n",
       "\n",
       "    .dataframe tbody tr th {\n",
       "        vertical-align: top;\n",
       "    }\n",
       "\n",
       "    .dataframe thead th {\n",
       "        text-align: right;\n",
       "    }\n",
       "</style>\n",
       "<table border=\"1\" class=\"dataframe\">\n",
       "  <thead>\n",
       "    <tr style=\"text-align: right;\">\n",
       "      <th></th>\n",
       "      <th>budget</th>\n",
       "      <th>revenue</th>\n",
       "      <th>runtime</th>\n",
       "      <th>vote_average</th>\n",
       "      <th>release_year</th>\n",
       "    </tr>\n",
       "  </thead>\n",
       "  <tbody>\n",
       "    <tr>\n",
       "      <th>count</th>\n",
       "      <td>1.889000e+03</td>\n",
       "      <td>1.889000e+03</td>\n",
       "      <td>1889.000000</td>\n",
       "      <td>1889.000000</td>\n",
       "      <td>1889.000000</td>\n",
       "    </tr>\n",
       "    <tr>\n",
       "      <th>mean</th>\n",
       "      <td>5.431083e+07</td>\n",
       "      <td>1.553653e+08</td>\n",
       "      <td>109.658549</td>\n",
       "      <td>6.140762</td>\n",
       "      <td>2007.860773</td>\n",
       "    </tr>\n",
       "    <tr>\n",
       "      <th>std</th>\n",
       "      <td>4.858721e+07</td>\n",
       "      <td>2.146698e+08</td>\n",
       "      <td>18.017041</td>\n",
       "      <td>0.764763</td>\n",
       "      <td>4.468841</td>\n",
       "    </tr>\n",
       "    <tr>\n",
       "      <th>min</th>\n",
       "      <td>5.000000e+06</td>\n",
       "      <td>2.033165e+06</td>\n",
       "      <td>63.000000</td>\n",
       "      <td>3.300000</td>\n",
       "      <td>2000.000000</td>\n",
       "    </tr>\n",
       "    <tr>\n",
       "      <th>25%</th>\n",
       "      <td>2.000000e+07</td>\n",
       "      <td>3.456058e+07</td>\n",
       "      <td>97.000000</td>\n",
       "      <td>5.600000</td>\n",
       "      <td>2004.000000</td>\n",
       "    </tr>\n",
       "    <tr>\n",
       "      <th>50%</th>\n",
       "      <td>3.800000e+07</td>\n",
       "      <td>8.361541e+07</td>\n",
       "      <td>107.000000</td>\n",
       "      <td>6.100000</td>\n",
       "      <td>2008.000000</td>\n",
       "    </tr>\n",
       "    <tr>\n",
       "      <th>75%</th>\n",
       "      <td>7.200000e+07</td>\n",
       "      <td>1.782626e+08</td>\n",
       "      <td>120.000000</td>\n",
       "      <td>6.600000</td>\n",
       "      <td>2012.000000</td>\n",
       "    </tr>\n",
       "    <tr>\n",
       "      <th>max</th>\n",
       "      <td>3.800000e+08</td>\n",
       "      <td>2.781506e+09</td>\n",
       "      <td>214.000000</td>\n",
       "      <td>8.100000</td>\n",
       "      <td>2015.000000</td>\n",
       "    </tr>\n",
       "  </tbody>\n",
       "</table>\n",
       "</div>"
      ],
      "text/plain": [
       "             budget       revenue      runtime  vote_average  release_year\n",
       "count  1.889000e+03  1.889000e+03  1889.000000   1889.000000   1889.000000\n",
       "mean   5.431083e+07  1.553653e+08   109.658549      6.140762   2007.860773\n",
       "std    4.858721e+07  2.146698e+08    18.017041      0.764763      4.468841\n",
       "min    5.000000e+06  2.033165e+06    63.000000      3.300000   2000.000000\n",
       "25%    2.000000e+07  3.456058e+07    97.000000      5.600000   2004.000000\n",
       "50%    3.800000e+07  8.361541e+07   107.000000      6.100000   2008.000000\n",
       "75%    7.200000e+07  1.782626e+08   120.000000      6.600000   2012.000000\n",
       "max    3.800000e+08  2.781506e+09   214.000000      8.100000   2015.000000"
      ]
     },
     "execution_count": 3,
     "metadata": {},
     "output_type": "execute_result"
    }
   ],
   "source": [
    "data.describe()"
   ]
  },
  {
   "cell_type": "markdown",
   "metadata": {
    "colab_type": "text",
    "id": "DTIt7ezGVp-G"
   },
   "source": [
    "# Предобработка"
   ]
  },
  {
   "cell_type": "code",
   "execution_count": 4,
   "metadata": {
    "colab": {},
    "colab_type": "code",
    "id": "jNb40DwKVp-H"
   },
   "outputs": [],
   "source": [
    "answers = {} # создадим словарь для ответов\n",
    "\n",
    "# Добавим столбец profit (прибыль).\n",
    "# Здесь и далее под «прибылью» или «убытками» понимается разность между сборами и бюджетом фильма:\n",
    "# (прибыль = сборы - бюджет). В нашем датасете это будет (profit = revenue - budget) \n",
    "data['profit'] = data.revenue - data.budget\n",
    "\n",
    "# Изменим тип столбца release_date с str на date.\n",
    "data.release_date = data.release_date.apply(\n",
    "    lambda release_date: datetime.strptime(release_date, '%m/%d/%Y').date())\n",
    "\n",
    "\n",
    "def print_extended_title_of(movie):\n",
    "    \"Prints the movie's title along with its DataDrame index and IMDB ID.\"\"\"\n",
    "    print(f'{str(movie.index[0])}. {movie.original_title.values[0]} ({movie.imdb_id.values[0]})')\n",
    "\n",
    "\n",
    "def extract_column_values_as_set(column: str, from_dataset) -> set:\n",
    "    \"\"\"Extract column values joined by '|' as a set.\"\"\"\n",
    "    disjoined_values = from_dataset[column].apply(lambda items: items.split('|')).values\n",
    "    combined_into_one_list = sum(disjoined_values, [])\n",
    "    return set(combined_into_one_list)\n",
    "\n",
    "\n",
    "def count_movies_of_each_genre(from_dataset, to_genres_series):\n",
    "    \"\"\"Count movies of each genre.\"\"\"\n",
    "    for movie_counter in range(from_dataset.imdb_id.count()):\n",
    "        genres = from_dataset.genres.iloc[movie_counter].split('|')\n",
    "        for genre in genres:\n",
    "             to_genres_series[genre] += 1\n",
    "\n",
    "\n",
    "def average_title_length(dataset, production_company: str) -> float:\n",
    "    \"\"\"Calculate average movie title's symbol count.\"\"\"\n",
    "    titles_lengths = [len(title) for title in dataset.original_title[\n",
    "        dataset.production_companies.str.contains(production_company, na=False)]]\n",
    "    titles_count = len(titles_lengths)\n",
    "    total_titles_length = sum(titles_lengths)\n",
    "    return round(total_titles_length / titles_count) if titles_count > 0 else 0.0\n",
    "\n",
    "\n",
    "def average_overview_word_count(dataset, production_company: str) -> float:\n",
    "    \"\"\"Calculate average movie overview's word count.\"\"\"\n",
    "    overviews_word_counts = [len(overview.split()) for overview in dataset.overview[\n",
    "        dataset.production_companies.str.contains(production_company, na=False)]]\n",
    "    overview_count = len(overviews_word_counts)\n",
    "    total_overviews_word_count = sum(overviews_word_counts)\n",
    "    return round(total_overviews_word_count / overview_count) if overview_count > 0 else 0.0\n",
    "\n",
    "\n",
    "# Для ответа на вопросы нам понадобятся также парочка наборов уникальных значений.\n",
    "unique_actors = extract_column_values_as_set(column='cast', from_dataset=data)\n",
    "unique_genres = extract_column_values_as_set(column='genres', from_dataset=data)\n",
    "unique_production_companies = extract_column_values_as_set(column='production_companies', from_dataset=data)"
   ]
  },
  {
   "cell_type": "markdown",
   "metadata": {
    "colab_type": "text",
    "id": "YxZaH-nPVp-L"
   },
   "source": [
    "# 1. У какого фильма из списка самый большой бюджет?"
   ]
  },
  {
   "cell_type": "markdown",
   "metadata": {
    "colab_type": "text",
    "id": "Nd-G5gX6Vp-M"
   },
   "source": [
    "Использовать варианты ответов в коде решения запрещено.    \n",
    "Вы думаете и в жизни у вас будут варианты ответов?)"
   ]
  },
  {
   "cell_type": "code",
   "execution_count": 5,
   "metadata": {
    "colab": {},
    "colab_type": "code",
    "id": "uVnXAY5RVp-O"
   },
   "outputs": [],
   "source": [
    "# в словарь вставляем номер вопроса и ваш ответ на него\n",
    "# Пример: \n",
    "answers['1'] = '2. Spider-Man 3 (tt0413300)'\n",
    "# запишите свой вариант ответа\n",
    "answers['1'] = '723. Pirates of the Caribbean: On Stranger Tides (tt1298650)' # +\n",
    "# если ответили верно, можете добавить комментарий со значком \"+\""
   ]
  },
  {
   "cell_type": "code",
   "execution_count": 6,
   "metadata": {
    "colab": {},
    "colab_type": "code",
    "id": "dZwb3m28Vp-S"
   },
   "outputs": [
    {
     "name": "stdout",
     "output_type": "stream",
     "text": [
      "723. Pirates of the Caribbean: On Stranger Tides (tt1298650)\n"
     ]
    }
   ],
   "source": [
    "# тут пишем ваш код для решения данного вопроса:\n",
    "max_budget_movie = data[data.budget == data.budget.max()]\n",
    "\n",
    "print_extended_title_of(max_budget_movie)"
   ]
  },
  {
   "cell_type": "markdown",
   "metadata": {
    "colab_type": "text",
    "id": "K7L3nbRXVp-X"
   },
   "source": [
    "ВАРИАНТ 2"
   ]
  },
  {
   "cell_type": "code",
   "execution_count": 7,
   "metadata": {
    "colab": {},
    "colab_type": "code",
    "id": "OGaoQI7rVp-X"
   },
   "outputs": [],
   "source": [
    "# можно добавлять разные варианты решения"
   ]
  },
  {
   "cell_type": "markdown",
   "metadata": {
    "colab_type": "text",
    "id": "FNRbbI3vVp-c"
   },
   "source": [
    "# 2. Какой из фильмов самый длительный (в минутах)?"
   ]
  },
  {
   "cell_type": "code",
   "execution_count": 8,
   "metadata": {
    "colab": {},
    "colab_type": "code",
    "id": "vHAoEXNTVp-d"
   },
   "outputs": [],
   "source": [
    "# думаю логику работы с этим словарем вы уже поняли, \n",
    "# по этому не буду больше его дублировать\n",
    "answers['2'] = '1157. Gods and Generals (tt0279111)' # +"
   ]
  },
  {
   "cell_type": "code",
   "execution_count": 9,
   "metadata": {
    "colab": {},
    "colab_type": "code",
    "id": "ot-VX2XrVp-g"
   },
   "outputs": [
    {
     "name": "stdout",
     "output_type": "stream",
     "text": [
      "1157. Gods and Generals (tt0279111)\n"
     ]
    }
   ],
   "source": [
    "max_runtime_movie = data[data.runtime == data.runtime.max()]\n",
    "\n",
    "print_extended_title_of(max_runtime_movie)"
   ]
  },
  {
   "cell_type": "markdown",
   "metadata": {
    "colab_type": "text",
    "id": "bapLlpW8Vp-k"
   },
   "source": [
    "# 3. Какой из фильмов самый короткий (в минутах)?\n",
    "\n",
    "\n",
    "\n"
   ]
  },
  {
   "cell_type": "code",
   "execution_count": 10,
   "metadata": {
    "colab": {},
    "colab_type": "code",
    "id": "YBxaSHuAVp-l"
   },
   "outputs": [],
   "source": [
    "answers['3'] = '768. Winnie the Pooh (tt1449283)' # +"
   ]
  },
  {
   "cell_type": "code",
   "execution_count": 11,
   "metadata": {},
   "outputs": [
    {
     "name": "stdout",
     "output_type": "stream",
     "text": [
      "768. Winnie the Pooh (tt1449283)\n"
     ]
    }
   ],
   "source": [
    "min_runtime_movie = data[data.runtime == data.runtime.min()]\n",
    "\n",
    "print_extended_title_of(min_runtime_movie)"
   ]
  },
  {
   "cell_type": "markdown",
   "metadata": {
    "colab_type": "text",
    "id": "TfQbxbfNVp-p"
   },
   "source": [
    "# 4. Какова средняя длительность фильмов?\n"
   ]
  },
  {
   "cell_type": "code",
   "execution_count": 12,
   "metadata": {
    "colab": {},
    "colab_type": "code",
    "id": "5K6dKZYVVp-q"
   },
   "outputs": [],
   "source": [
    "answers['4'] = '110' # +"
   ]
  },
  {
   "cell_type": "code",
   "execution_count": 13,
   "metadata": {},
   "outputs": [
    {
     "data": {
      "text/plain": [
       "110"
      ]
     },
     "execution_count": 13,
     "metadata": {},
     "output_type": "execute_result"
    }
   ],
   "source": [
    "round(data.runtime.mean())"
   ]
  },
  {
   "cell_type": "markdown",
   "metadata": {
    "colab_type": "text",
    "id": "r5TvbnT_Vp-u"
   },
   "source": [
    "# 5. Каково медианное значение длительности фильмов? "
   ]
  },
  {
   "cell_type": "code",
   "execution_count": 14,
   "metadata": {
    "colab": {},
    "colab_type": "code",
    "id": "iBROplKnVp-v"
   },
   "outputs": [],
   "source": [
    "answers['5'] = '107' # +"
   ]
  },
  {
   "cell_type": "code",
   "execution_count": 15,
   "metadata": {},
   "outputs": [
    {
     "data": {
      "text/plain": [
       "107.0"
      ]
     },
     "execution_count": 15,
     "metadata": {},
     "output_type": "execute_result"
    }
   ],
   "source": [
    "data.runtime.median()"
   ]
  },
  {
   "cell_type": "markdown",
   "metadata": {
    "colab_type": "text",
    "id": "39P-deDSVp-y"
   },
   "source": [
    "# 6. Какой самый прибыльный фильм?\n",
    "#### Внимание! Здесь и далее под «прибылью» или «убытками» понимается разность между сборами и бюджетом фильма. (прибыль = сборы - бюджет) в нашем датасете это будет (profit = revenue - budget) "
   ]
  },
  {
   "cell_type": "code",
   "execution_count": 16,
   "metadata": {
    "colab": {},
    "colab_type": "code",
    "id": "UYZh4T9WVp-y"
   },
   "outputs": [],
   "source": [
    "# лучше код получения столбца profit вынести в Предобработку что в начале\n",
    "answers['6'] = '239. Avatar (tt0499549)' # +"
   ]
  },
  {
   "cell_type": "code",
   "execution_count": 17,
   "metadata": {},
   "outputs": [
    {
     "name": "stdout",
     "output_type": "stream",
     "text": [
      "239. Avatar (tt0499549)\n"
     ]
    }
   ],
   "source": [
    "max_profit_movie = data[data.profit == data.profit.max()]\n",
    "\n",
    "print_extended_title_of(max_profit_movie)"
   ]
  },
  {
   "cell_type": "markdown",
   "metadata": {
    "colab_type": "text",
    "id": "M99JmIX4Vp-2"
   },
   "source": [
    "# 7. Какой фильм самый убыточный? "
   ]
  },
  {
   "cell_type": "code",
   "execution_count": 18,
   "metadata": {
    "colab": {},
    "colab_type": "code",
    "id": "w-D2m4XPVp-3"
   },
   "outputs": [],
   "source": [
    "answers['7'] = '1245. The Lone Ranger (tt1210819)' # +"
   ]
  },
  {
   "cell_type": "code",
   "execution_count": 19,
   "metadata": {},
   "outputs": [
    {
     "name": "stdout",
     "output_type": "stream",
     "text": [
      "1245. The Lone Ranger (tt1210819)\n"
     ]
    }
   ],
   "source": [
    "min_profit_movie = data[data.profit == data.profit.min()]\n",
    "\n",
    "print_extended_title_of(min_profit_movie)"
   ]
  },
  {
   "cell_type": "markdown",
   "metadata": {
    "colab_type": "text",
    "id": "wEOM5ERVVp-6"
   },
   "source": [
    "# 8. У скольких фильмов из датасета объем сборов оказался выше бюджета?"
   ]
  },
  {
   "cell_type": "code",
   "execution_count": 20,
   "metadata": {
    "colab": {},
    "colab_type": "code",
    "id": "y00_7HD6Vp-7"
   },
   "outputs": [],
   "source": [
    "answers['8'] = '1478' # +"
   ]
  },
  {
   "cell_type": "code",
   "execution_count": 21,
   "metadata": {},
   "outputs": [
    {
     "data": {
      "text/plain": [
       "1478"
      ]
     },
     "execution_count": 21,
     "metadata": {},
     "output_type": "execute_result"
    }
   ],
   "source": [
    "data.query('profit > 0').imdb_id.count()"
   ]
  },
  {
   "cell_type": "markdown",
   "metadata": {
    "colab_type": "text",
    "id": "xhpspA9KVp_A"
   },
   "source": [
    "# 9. Какой фильм оказался самым кассовым в 2008 году?"
   ]
  },
  {
   "cell_type": "code",
   "execution_count": 22,
   "metadata": {
    "colab": {},
    "colab_type": "code",
    "id": "MoUyQr9RVp_B"
   },
   "outputs": [],
   "source": [
    "answers['9'] = '599. The Dark Knight (tt0468569)' # +"
   ]
  },
  {
   "cell_type": "code",
   "execution_count": 23,
   "metadata": {},
   "outputs": [
    {
     "name": "stdout",
     "output_type": "stream",
     "text": [
      "599. The Dark Knight (tt0468569)\n"
     ]
    }
   ],
   "source": [
    "max_profit_2008 = data[data.release_year == 2008].profit.max()\n",
    "\n",
    "max_profit_2008_movie = data[data.profit == max_profit_2008]\n",
    "\n",
    "print_extended_title_of(max_profit_2008_movie)"
   ]
  },
  {
   "cell_type": "markdown",
   "metadata": {
    "colab_type": "text",
    "id": "Zi4hDKidVp_F"
   },
   "source": [
    "# 10. Самый убыточный фильм за период с 2012 по 2014 г. (включительно)?\n"
   ]
  },
  {
   "cell_type": "code",
   "execution_count": 24,
   "metadata": {
    "colab": {},
    "colab_type": "code",
    "id": "XqyRmufJVp_F"
   },
   "outputs": [],
   "source": [
    "answers['10'] = '1245. The Lone Ranger (tt1210819)' # +"
   ]
  },
  {
   "cell_type": "code",
   "execution_count": 25,
   "metadata": {},
   "outputs": [
    {
     "name": "stdout",
     "output_type": "stream",
     "text": [
      "1245. The Lone Ranger (tt1210819)\n"
     ]
    }
   ],
   "source": [
    "min_profit_2012_2014 = data.query('2012 <= release_year <= 2014').profit.min()\n",
    "\n",
    "min_profit_2012_2014_movie = data[data.profit == min_profit_2012_2014]\n",
    "\n",
    "print_extended_title_of(min_profit_2012_2014_movie)"
   ]
  },
  {
   "cell_type": "markdown",
   "metadata": {
    "colab_type": "text",
    "id": "EA7Sa9dkVp_I"
   },
   "source": [
    "# 11. Какого жанра фильмов больше всего?"
   ]
  },
  {
   "cell_type": "code",
   "execution_count": 26,
   "metadata": {
    "colab": {},
    "colab_type": "code",
    "id": "zsJAwJ8QVp_J"
   },
   "outputs": [],
   "source": [
    "# эту задачу тоже можно решать разными подходами, попробуй реализовать разные варианты\n",
    "# если будешь добавлять функцию - выноси ее в предобработку что в начале\n",
    "answers['11'] = 'Drama' # +"
   ]
  },
  {
   "cell_type": "code",
   "execution_count": 27,
   "metadata": {},
   "outputs": [
    {
     "data": {
      "text/plain": [
       "'Drama'"
      ]
     },
     "execution_count": 27,
     "metadata": {},
     "output_type": "execute_result"
    }
   ],
   "source": [
    "genre_to_frequency = {\n",
    "    genre:data.genres[data.genres.str.contains(genre, na=False)].count()\n",
    "    for genre in unique_genres\n",
    "}\n",
    "        \n",
    "max(genre_to_frequency, key=genre_to_frequency.get)"
   ]
  },
  {
   "cell_type": "markdown",
   "metadata": {
    "colab_type": "text",
    "id": "Ax6g2C8SVp_M"
   },
   "source": [
    "ВАРИАНТ 2"
   ]
  },
  {
   "cell_type": "code",
   "execution_count": 28,
   "metadata": {
    "colab": {},
    "colab_type": "code",
    "id": "otO3SbrSVp_N"
   },
   "outputs": [
    {
     "data": {
      "text/plain": [
       "'Drama'"
      ]
     },
     "execution_count": 28,
     "metadata": {},
     "output_type": "execute_result"
    }
   ],
   "source": [
    "genre_to_frequency = pd.Series(data=0, index=unique_genres, name='genres')\n",
    "\n",
    "count_movies_of_each_genre(from_dataset=data, to_genres_series=genre_to_frequency)\n",
    "\n",
    "genre_to_frequency.sort_values(ascending=False).index[0]"
   ]
  },
  {
   "cell_type": "markdown",
   "metadata": {
    "colab_type": "text",
    "id": "T9_bPWpkVp_Q"
   },
   "source": [
    "# 12. Фильмы какого жанра чаще всего становятся прибыльными? "
   ]
  },
  {
   "cell_type": "code",
   "execution_count": 29,
   "metadata": {
    "colab": {},
    "colab_type": "code",
    "id": "Tmt8MaK1Vp_R"
   },
   "outputs": [],
   "source": [
    "answers['12'] = 'Drama' # +"
   ]
  },
  {
   "cell_type": "code",
   "execution_count": 30,
   "metadata": {},
   "outputs": [
    {
     "data": {
      "text/plain": [
       "'Drama'"
      ]
     },
     "execution_count": 30,
     "metadata": {},
     "output_type": "execute_result"
    }
   ],
   "source": [
    "positive_profit_movies = data[data.profit > 0]\n",
    "\n",
    "genre_to_profit = {\n",
    "    genre:positive_profit_movies.genres[positive_profit_movies.genres.str.contains(genre, na=False)].count()\n",
    "    for genre in unique_genres\n",
    "}\n",
    "\n",
    "max(genre_to_profit, key=genre_to_profit.get)"
   ]
  },
  {
   "cell_type": "markdown",
   "metadata": {
    "colab_type": "text",
    "id": "0F23bgsDVp_U"
   },
   "source": [
    "# 13. У какого режиссера самые большие суммарные кассовые сбооры?"
   ]
  },
  {
   "cell_type": "code",
   "execution_count": 31,
   "metadata": {
    "colab": {},
    "colab_type": "code",
    "id": "K6Z3J8ygVp_X"
   },
   "outputs": [],
   "source": [
    "answers['13'] = 'Peter Jackson' # +"
   ]
  },
  {
   "cell_type": "code",
   "execution_count": 32,
   "metadata": {},
   "outputs": [
    {
     "data": {
      "text/plain": [
       "'Peter Jackson'"
      ]
     },
     "execution_count": 32,
     "metadata": {},
     "output_type": "execute_result"
    }
   ],
   "source": [
    "data.groupby(data.director).revenue.sum().sort_values(ascending=False).index[0]"
   ]
  },
  {
   "cell_type": "markdown",
   "metadata": {
    "colab_type": "text",
    "id": "PsYC9FgRVp_a"
   },
   "source": [
    "# 14. Какой режисер снял больше всего фильмов в стиле Action?"
   ]
  },
  {
   "cell_type": "code",
   "execution_count": 33,
   "metadata": {
    "colab": {},
    "colab_type": "code",
    "id": "wd2M-wHeVp_b"
   },
   "outputs": [],
   "source": [
    "answers['14'] = 'Robert Rodriguez' # +"
   ]
  },
  {
   "cell_type": "code",
   "execution_count": 34,
   "metadata": {},
   "outputs": [
    {
     "data": {
      "text/plain": [
       "'Robert Rodriguez'"
      ]
     },
     "execution_count": 34,
     "metadata": {},
     "output_type": "execute_result"
    }
   ],
   "source": [
    "data[\n",
    "    data.genres.str.match('Action', na=False)\n",
    "].groupby(data.director).genres.count().sort_values(ascending=False).index[0]"
   ]
  },
  {
   "cell_type": "markdown",
   "metadata": {
    "colab_type": "text",
    "id": "PQ0KciD7Vp_f"
   },
   "source": [
    "# 15. Фильмы с каким актером принесли самые высокие кассовые сборы в 2012 году? "
   ]
  },
  {
   "cell_type": "code",
   "execution_count": 35,
   "metadata": {
    "colab": {},
    "colab_type": "code",
    "id": "aga62oeKVp_g"
   },
   "outputs": [],
   "source": [
    "answers['15'] = 'Chris Hemsworth' # +"
   ]
  },
  {
   "cell_type": "code",
   "execution_count": 36,
   "metadata": {},
   "outputs": [
    {
     "data": {
      "text/plain": [
       "'Chris Hemsworth'"
      ]
     },
     "execution_count": 36,
     "metadata": {},
     "output_type": "execute_result"
    }
   ],
   "source": [
    "movies_2012 = data[data.release_year == 2012]\n",
    "\n",
    "actor_to_revenue_2012 = {\n",
    "    actor:movies_2012.revenue[movies_2012.cast.str.contains(actor, na=False)].sum()\n",
    "    for actor in unique_actors\n",
    "}\n",
    "\n",
    "max(actor_to_revenue_2012, key=actor_to_revenue_2012.get)"
   ]
  },
  {
   "cell_type": "markdown",
   "metadata": {
    "colab_type": "text",
    "id": "mWHyyL7QVp_j"
   },
   "source": [
    "# 16. Какой актер снялся в большем количестве высокобюджетных фильмов?"
   ]
  },
  {
   "cell_type": "code",
   "execution_count": 37,
   "metadata": {
    "colab": {},
    "colab_type": "code",
    "id": "qQtmHKTFVp_k"
   },
   "outputs": [],
   "source": [
    "answers['16'] = 'Matt Damon' # +"
   ]
  },
  {
   "cell_type": "code",
   "execution_count": 39,
   "metadata": {},
   "outputs": [
    {
     "data": {
      "text/plain": [
       "'Matt Damon'"
      ]
     },
     "execution_count": 39,
     "metadata": {},
     "output_type": "execute_result"
    }
   ],
   "source": [
    "actor_to_high_budget_movies_count = {\n",
    "    actor:data.imdb_id[data.cast.str.contains(actor, na=False) & (data.budget > data.budget.mean())].count()\n",
    "    for actor in unique_actors\n",
    "}\n",
    "\n",
    "max(actor_to_high_budget_movies_count, key=actor_to_high_budget_movies_count.get)"
   ]
  },
  {
   "cell_type": "markdown",
   "metadata": {
    "colab_type": "text",
    "id": "NIh6AaW5Vp_n"
   },
   "source": [
    "# 17. В фильмах какого жанра больше всего снимался Nicolas Cage? "
   ]
  },
  {
   "cell_type": "code",
   "execution_count": 40,
   "metadata": {
    "colab": {},
    "colab_type": "code",
    "id": "H74SJDIBVp_n"
   },
   "outputs": [],
   "source": [
    "answers['17'] = 'Action' # +"
   ]
  },
  {
   "cell_type": "code",
   "execution_count": 41,
   "metadata": {},
   "outputs": [
    {
     "data": {
      "text/plain": [
       "'Action'"
      ]
     },
     "execution_count": 41,
     "metadata": {},
     "output_type": "execute_result"
    }
   ],
   "source": [
    "movies_with_nicolas_cage = data[data.cast.str.contains('Nicolas Cage', na=False)]\n",
    "\n",
    "genres_to_movies_with_nicolas_cage = {\n",
    "    genre:movies_with_nicolas_cage.genres[movies_with_nicolas_cage.genres.str.contains(genre, na=False)].count()\n",
    "    for genre in unique_genres\n",
    "}\n",
    "\n",
    "max(genres_to_movies_with_nicolas_cage, key=genres_to_movies_with_nicolas_cage.get)"
   ]
  },
  {
   "cell_type": "markdown",
   "metadata": {
    "colab_type": "text",
    "id": "RqOmPRfWVp_q"
   },
   "source": [
    "# 18. Самый убыточный фильм от Paramount Pictures"
   ]
  },
  {
   "cell_type": "code",
   "execution_count": 42,
   "metadata": {
    "colab": {},
    "colab_type": "code",
    "id": "9E_B0Y96Vp_r"
   },
   "outputs": [],
   "source": [
    "answers['18'] = '925. K-19: The Widowmaker (tt0267626)' # +"
   ]
  },
  {
   "cell_type": "code",
   "execution_count": 43,
   "metadata": {},
   "outputs": [
    {
     "name": "stdout",
     "output_type": "stream",
     "text": [
      "925. K-19: The Widowmaker (tt0267626)\n"
     ]
    }
   ],
   "source": [
    "paramount_movies = data[data.production_companies.str.contains('Paramount Pictures', na=False)]\n",
    "\n",
    "most_unprofitable = paramount_movies[paramount_movies.profit == paramount_movies.profit.min()]\n",
    "\n",
    "print_extended_title_of(most_unprofitable)"
   ]
  },
  {
   "cell_type": "markdown",
   "metadata": {
    "colab_type": "text",
    "id": "vS8Ur6ddVp_u"
   },
   "source": [
    "# 19. Какой год стал самым успешным по суммарным кассовым сборам?"
   ]
  },
  {
   "cell_type": "code",
   "execution_count": 44,
   "metadata": {
    "colab": {},
    "colab_type": "code",
    "id": "Dnbt4GdIVp_v"
   },
   "outputs": [],
   "source": [
    "answers['19'] = '2015' # +"
   ]
  },
  {
   "cell_type": "code",
   "execution_count": 45,
   "metadata": {},
   "outputs": [
    {
     "data": {
      "text/plain": [
       "2015"
      ]
     },
     "execution_count": 45,
     "metadata": {},
     "output_type": "execute_result"
    }
   ],
   "source": [
    "data.groupby(data.release_year).revenue.sum().sort_values(ascending=False).index[0]"
   ]
  },
  {
   "cell_type": "markdown",
   "metadata": {
    "colab_type": "text",
    "id": "JAzJh4QAVp_z"
   },
   "source": [
    "# 20. Какой самый прибыльный год для студии Warner Bros?"
   ]
  },
  {
   "cell_type": "code",
   "execution_count": 46,
   "metadata": {
    "colab": {},
    "colab_type": "code",
    "id": "wgVu02DEVp_0"
   },
   "outputs": [],
   "source": [
    "answers['20'] = '2014' # +"
   ]
  },
  {
   "cell_type": "code",
   "execution_count": 47,
   "metadata": {},
   "outputs": [
    {
     "data": {
      "text/plain": [
       "2014"
      ]
     },
     "execution_count": 47,
     "metadata": {},
     "output_type": "execute_result"
    }
   ],
   "source": [
    "data[\n",
    "    data.production_companies.str.contains('Warner Bros', na=False)\n",
    "].groupby(data.release_year).profit.sum().sort_values(ascending=False).index[0]"
   ]
  },
  {
   "cell_type": "markdown",
   "metadata": {
    "colab_type": "text",
    "id": "8Im1S2HRVp_4"
   },
   "source": [
    "# 21. В каком месяце за все годы суммарно вышло больше всего фильмов?"
   ]
  },
  {
   "cell_type": "code",
   "execution_count": 48,
   "metadata": {
    "colab": {},
    "colab_type": "code",
    "id": "lev6TH7gVp_4"
   },
   "outputs": [],
   "source": [
    "answers['21'] = '9' # +"
   ]
  },
  {
   "cell_type": "code",
   "execution_count": 49,
   "metadata": {},
   "outputs": [
    {
     "data": {
      "text/plain": [
       "9"
      ]
     },
     "execution_count": 49,
     "metadata": {},
     "output_type": "execute_result"
    }
   ],
   "source": [
    "months = (month for month in range(1, 13))\n",
    "\n",
    "months_to_movies_count = {\n",
    "    month:[date.month for date in data.release_date].count(month)\n",
    "    for month in months\n",
    "}\n",
    "\n",
    "max(months_to_movies_count, key=months_to_movies_count.get)"
   ]
  },
  {
   "cell_type": "markdown",
   "metadata": {
    "colab_type": "text",
    "id": "uAJsZ_NeVp_7"
   },
   "source": [
    "# 22. Сколько суммарно вышло фильмов летом? (за июнь, июль, август)"
   ]
  },
  {
   "cell_type": "code",
   "execution_count": 50,
   "metadata": {
    "colab": {},
    "colab_type": "code",
    "id": "Aa-hEREoVp_8"
   },
   "outputs": [],
   "source": [
    "answers['22'] = '450' # +"
   ]
  },
  {
   "cell_type": "code",
   "execution_count": 51,
   "metadata": {},
   "outputs": [
    {
     "data": {
      "text/plain": [
       "450"
      ]
     },
     "execution_count": 51,
     "metadata": {},
     "output_type": "execute_result"
    }
   ],
   "source": [
    "len([date.month for date in data.release_date if date.month in (6, 7, 8)])"
   ]
  },
  {
   "cell_type": "markdown",
   "metadata": {
    "colab_type": "text",
    "id": "G94ppOY1VqAA"
   },
   "source": [
    "# 23. Для какого режиссера зима – самое продуктивное время года? "
   ]
  },
  {
   "cell_type": "code",
   "execution_count": 52,
   "metadata": {
    "colab": {},
    "colab_type": "code",
    "id": "RhNTsamuVqAB"
   },
   "outputs": [],
   "source": [
    "answers['23'] = 'Peter Jackson' # +"
   ]
  },
  {
   "cell_type": "code",
   "execution_count": 53,
   "metadata": {},
   "outputs": [
    {
     "data": {
      "text/plain": [
       "'Peter Jackson'"
      ]
     },
     "execution_count": 53,
     "metadata": {},
     "output_type": "execute_result"
    }
   ],
   "source": [
    "winter_movies = data[[True if date.month in (12, 1, 2) else False for date in data.release_date]]\n",
    "\n",
    "winter_movies.groupby(winter_movies.director).imdb_id.count().sort_values(ascending=False).index[0]"
   ]
  },
  {
   "cell_type": "markdown",
   "metadata": {
    "colab_type": "text",
    "id": "RBo0JVjVVqAF"
   },
   "source": [
    "# 24. Какая студия дает самые длинные названия своим фильмам по количеству символов?"
   ]
  },
  {
   "cell_type": "code",
   "execution_count": 54,
   "metadata": {
    "colab": {},
    "colab_type": "code",
    "id": "QRGS8L0iVqAG"
   },
   "outputs": [],
   "source": [
    "answers['24'] = 'Four By Two Productions' # +"
   ]
  },
  {
   "cell_type": "code",
   "execution_count": 55,
   "metadata": {},
   "outputs": [
    {
     "name": "stderr",
     "output_type": "stream",
     "text": [
      "/opt/anaconda3/lib/python3.8/site-packages/pandas/core/strings.py:1954: UserWarning: This pattern has match groups. To actually get the groups, use str.extract.\n",
      "  return func(self, *args, **kwargs)\n"
     ]
    },
    {
     "data": {
      "text/plain": [
       "'Four By Two Productions'"
      ]
     },
     "execution_count": 55,
     "metadata": {},
     "output_type": "execute_result"
    }
   ],
   "source": [
    "production_companies_to_average_title_length = {\n",
    "    production_company:average_title_length(data, production_company)\n",
    "    for production_company in unique_production_companies\n",
    "}\n",
    "\n",
    "max(production_companies_to_average_title_length, key=production_companies_to_average_title_length.get)"
   ]
  },
  {
   "cell_type": "markdown",
   "metadata": {
    "colab_type": "text",
    "id": "9G0hbvR7VqAK"
   },
   "source": [
    "# 25. Описание фильмов какой студии в среднем самые длинные по количеству слов?"
   ]
  },
  {
   "cell_type": "code",
   "execution_count": 56,
   "metadata": {
    "colab": {},
    "colab_type": "code",
    "id": "Ge2GsLNxVqAK"
   },
   "outputs": [],
   "source": [
    "answers['25'] = 'Midnight Picture Show' # +"
   ]
  },
  {
   "cell_type": "code",
   "execution_count": 57,
   "metadata": {},
   "outputs": [
    {
     "data": {
      "text/plain": [
       "'Midnight Picture Show'"
      ]
     },
     "execution_count": 57,
     "metadata": {},
     "output_type": "execute_result"
    }
   ],
   "source": [
    "production_companies_to_average_overview_word_count = {\n",
    "    production_company:average_overview_word_count(data, production_company)\n",
    "    for production_company in unique_production_companies\n",
    "}\n",
    "\n",
    "max(production_companies_to_average_overview_word_count, key=production_companies_to_average_overview_word_count.get)"
   ]
  },
  {
   "cell_type": "markdown",
   "metadata": {
    "colab_type": "text",
    "id": "FJ1AFt90VqAP"
   },
   "source": [
    "# 26. Какие фильмы входят в 1 процент лучших по рейтингу? \n",
    "по vote_average"
   ]
  },
  {
   "cell_type": "code",
   "execution_count": 58,
   "metadata": {
    "colab": {},
    "colab_type": "code",
    "id": "8qmJVq4CVqAQ"
   },
   "outputs": [],
   "source": [
    "answers['26'] = 'The Dark Knight, Interstellar, The Imitation Game, Inside Out, Room, The Wolf of Wall Street, Gone Girl, 12 Years a Slave, Guardians of the Galaxy, The Lord of the Rings: The Return of the King, Memento, Inception, The Pianist, The Grand Budapest Hotel, Her, Spotlight, Big Hero 6, The Fault in Our Stars, The Lord of the Rings: The Two Towers' # +"
   ]
  },
  {
   "cell_type": "code",
   "execution_count": 59,
   "metadata": {},
   "outputs": [
    {
     "data": {
      "text/plain": [
       "'The Dark Knight, Interstellar, The Imitation Game, Inside Out, Room, The Wolf of Wall Street, Gone Girl, 12 Years a Slave, Guardians of the Galaxy, The Lord of the Rings: The Return of the King, Memento, Inception, The Pianist, The Grand Budapest Hotel, Her, Spotlight, Big Hero 6, The Fault in Our Stars, The Lord of the Rings: The Two Towers'"
      ]
     },
     "execution_count": 59,
     "metadata": {},
     "output_type": "execute_result"
    }
   ],
   "source": [
    "', '.join(data.sort_values(by='vote_average', ascending=False).head(round(len(data)/100)).original_title)"
   ]
  },
  {
   "cell_type": "markdown",
   "metadata": {
    "colab_type": "text",
    "id": "MdXsUXbCVqAV"
   },
   "source": [
    "# 27. Какие актеры чаще всего снимаются в одном фильме вместе?\n"
   ]
  },
  {
   "cell_type": "code",
   "execution_count": 60,
   "metadata": {},
   "outputs": [],
   "source": [
    "answers['27'] = \"('Daniel Radcliffe', 'Rupert Grint')\" # +"
   ]
  },
  {
   "cell_type": "code",
   "execution_count": 61,
   "metadata": {},
   "outputs": [
    {
     "data": {
      "text/plain": [
       "[('Daniel Radcliffe', 'Emma Watson'),\n",
       " ('Emma Watson', 'Rupert Grint'),\n",
       " ('Daniel Radcliffe', 'Rupert Grint'),\n",
       " ('Helena Bonham Carter', 'Johnny Depp'),\n",
       " ('Ben Stiller', 'Owen Wilson')]"
      ]
     },
     "execution_count": 61,
     "metadata": {},
     "output_type": "execute_result"
    }
   ],
   "source": [
    "actors_to_their_movies = {\n",
    "    actor:data[data.cast.str.contains(actor, na=False)].index\n",
    "    for actor in unique_actors\n",
    "}\n",
    "\n",
    "actors_to_their_casts = {\n",
    "    actor:sum([actors.split('|') for actors in [data.iloc[index].cast for index in my_idx]], [])\n",
    "    for (actor,my_idx) in actors_to_their_movies.items()\n",
    "}\n",
    "\n",
    "pairs_of_actors = {\n",
    "    tuple(sorted([actor_1, actor_2]))\n",
    "    for actor_1 in unique_actors\n",
    "    for actor_2 in unique_actors\n",
    "    if actor_1 != actor_2\n",
    "}\n",
    "\n",
    "pairs_of_actors_to_frequency = {\n",
    "    pair_of_actors:actors_to_their_casts[pair_of_actors[0]].count(pair_of_actors[1])\n",
    "    for pair_of_actors in pairs_of_actors\n",
    "}\n",
    "\n",
    "sorted(pairs_of_actors_to_frequency, key=pairs_of_actors_to_frequency.get, reverse=True)[0:5]"
   ]
  },
  {
   "cell_type": "markdown",
   "metadata": {
    "colab_type": "text",
    "id": "4ymnxEVoVqAW"
   },
   "source": [
    "ВАРИАНТ 2"
   ]
  },
  {
   "cell_type": "code",
   "execution_count": null,
   "metadata": {},
   "outputs": [],
   "source": []
  },
  {
   "cell_type": "markdown",
   "metadata": {
    "colab_type": "text",
    "id": "U0nONFnGVqAX"
   },
   "source": [
    "# Submission"
   ]
  },
  {
   "cell_type": "code",
   "execution_count": 62,
   "metadata": {
    "colab": {},
    "colab_type": "code",
    "id": "IfcaRO9-VqAX",
    "outputId": "0f132912-32bb-4196-c98c-abfbc4ad5a5f"
   },
   "outputs": [
    {
     "data": {
      "text/plain": [
       "{'1': '723. Pirates of the Caribbean: On Stranger Tides (tt1298650)',\n",
       " '2': '1157. Gods and Generals (tt0279111)',\n",
       " '3': '768. Winnie the Pooh (tt1449283)',\n",
       " '4': '110',\n",
       " '5': '107',\n",
       " '6': '239. Avatar (tt0499549)',\n",
       " '7': '1245. The Lone Ranger (tt1210819)',\n",
       " '8': '1478',\n",
       " '9': '599. The Dark Knight (tt0468569)',\n",
       " '10': '1245. The Lone Ranger (tt1210819)',\n",
       " '11': 'Drama',\n",
       " '12': 'Drama',\n",
       " '13': 'Peter Jackson',\n",
       " '14': 'Robert Rodriguez',\n",
       " '15': 'Chris Hemsworth',\n",
       " '16': 'Matt Damon',\n",
       " '17': 'Action',\n",
       " '18': '925. K-19: The Widowmaker (tt0267626)',\n",
       " '19': '2015',\n",
       " '20': '2014',\n",
       " '21': '9',\n",
       " '22': '450',\n",
       " '23': 'Peter Jackson',\n",
       " '24': 'Four By Two Productions',\n",
       " '25': 'Midnight Picture Show',\n",
       " '26': 'The Dark Knight, Interstellar, The Imitation Game, Inside Out, Room, The Wolf of Wall Street, Gone Girl, 12 Years a Slave, Guardians of the Galaxy, The Lord of the Rings: The Return of the King, Memento, Inception, The Pianist, The Grand Budapest Hotel, Her, Spotlight, Big Hero 6, The Fault in Our Stars, The Lord of the Rings: The Two Towers',\n",
       " '27': \"('Daniel Radcliffe', 'Rupert Grint')\"}"
      ]
     },
     "execution_count": 62,
     "metadata": {},
     "output_type": "execute_result"
    }
   ],
   "source": [
    "# в конце можно посмотреть свои ответы к каждому вопросу\n",
    "answers"
   ]
  },
  {
   "cell_type": "code",
   "execution_count": 63,
   "metadata": {
    "colab": {},
    "colab_type": "code",
    "id": "SiRmHPl8VqAd"
   },
   "outputs": [
    {
     "data": {
      "text/plain": [
       "27"
      ]
     },
     "execution_count": 63,
     "metadata": {},
     "output_type": "execute_result"
    }
   ],
   "source": [
    "# и убедиться что ни чего не пропустил)\n",
    "len(answers)"
   ]
  },
  {
   "cell_type": "code",
   "execution_count": 0,
   "metadata": {
    "colab": {},
    "colab_type": "code",
    "id": "uCfuTkRbVqAg"
   },
   "outputs": [],
   "source": []
  },
  {
   "cell_type": "code",
   "execution_count": 0,
   "metadata": {
    "colab": {},
    "colab_type": "code",
    "id": "Vwx3NrkSVqAl"
   },
   "outputs": [],
   "source": []
  }
 ],
 "metadata": {
  "colab": {
   "name": "Copy of [SF-DST] Movies IMBD v4.1 TEMPLATE.ipynb",
   "provenance": []
  },
  "kernelspec": {
   "display_name": "Python 3",
   "language": "python",
   "name": "python3"
  },
  "language_info": {
   "codemirror_mode": {
    "name": "ipython",
    "version": 3
   },
   "file_extension": ".py",
   "mimetype": "text/x-python",
   "name": "python",
   "nbconvert_exporter": "python",
   "pygments_lexer": "ipython3",
   "version": "3.8.3"
  }
 },
 "nbformat": 4,
 "nbformat_minor": 1
}
